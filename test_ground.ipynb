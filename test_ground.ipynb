market_cap_million = st.slider("Market Cap ($M)", min_value=1, max_value=500, value=50, step=1, format='%dM')

market_cap = market_cap_million * 1e6